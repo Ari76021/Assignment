{
 "cells": [
  {
   "cell_type": "code",
   "execution_count": null,
   "id": "4a034b09-e912-4f2a-8a00-bd7fe069e7c4",
   "metadata": {},
   "outputs": [],
   "source": [
    "1.open() function is used to open a file.\n",
    "'r'-read mode. if file exist then it will open\n",
    "'w'-write mode. if file does nit exist then new file will be created to use this mode.if file exist then to use this method we can erase previous data.\n",
    "'a'-append mode. if file exist with data then we can write data and print that data in that file after the old data\n",
    "'rb'-read existing file in binary form\n",
    "'wb'- write or create a new file in binary form"
   ]
  },
  {
   "cell_type": "code",
   "execution_count": null,
   "id": "a477e642-72cd-4f64-88e0-4c1465034bfe",
   "metadata": {},
   "outputs": [],
   "source": [
    "2.close() function is used to close the file\n",
    "close() function is iportant because if i do not close the file using close() i can not create a new file and i can not print a new data in a new file"
   ]
  },
  {
   "cell_type": "code",
   "execution_count": 12,
   "id": "0790adc8-8fd4-405a-9eb6-f2c0b21f6b97",
   "metadata": {},
   "outputs": [
    {
     "data": {
      "text/plain": [
       "33"
      ]
     },
     "execution_count": 12,
     "metadata": {},
     "output_type": "execute_result"
    }
   ],
   "source": [
    "#3.Write a python program to create a text file. Write ‘I want to become a Data Scientist’ in that file. Then close the file. Open this file and read the content of the file.\n",
    "f=open(\"file1.txt\",'w')\n",
    "f.write('I want to become a Data Scientist')"
   ]
  },
  {
   "cell_type": "code",
   "execution_count": 13,
   "id": "96a04d2d-c6b9-4e13-8684-e2bcd6b4cb6c",
   "metadata": {},
   "outputs": [],
   "source": [
    "f.close()"
   ]
  },
  {
   "cell_type": "code",
   "execution_count": 14,
   "id": "9314d6ec-4905-4e48-b79f-6490d383f1d5",
   "metadata": {},
   "outputs": [
    {
     "data": {
      "text/plain": [
       "'I want to become a Data Scientist'"
      ]
     },
     "execution_count": 14,
     "metadata": {},
     "output_type": "execute_result"
    }
   ],
   "source": [
    "f=open(\"file1.txt\",'r')\n",
    "f.read()"
   ]
  },
  {
   "cell_type": "code",
   "execution_count": 22,
   "id": "b602f392-c0a8-48a1-afbb-5387145044cd",
   "metadata": {},
   "outputs": [
    {
     "data": {
      "text/plain": [
       "765"
      ]
     },
     "execution_count": 22,
     "metadata": {},
     "output_type": "execute_result"
    }
   ],
   "source": [
    "f=open('file2.txt','w')\n",
    "f.write(\"Data Science Masters course is highly curated and uniquely designed according to the latest industry standards. This program instills students the skills essential to knowledge discovery efforts to identify standard, novel, and truly differentiated solutions and decision-making, including skills in managing, querying, analyzing, visualizing, and extracting meaning from extremely large data sets. This trending program provides students with the statistical, mathematical and computational skills needed to meet the large-scale data science challenges of today's professional world. You will learn all the stack required to work in data science industry including cloud infrastructure and real-time industry projects. This course will be taught in Hindi language.\")"
   ]
  },
  {
   "cell_type": "code",
   "execution_count": null,
   "id": "ff0fd927-fb26-4618-a182-3a74c476f2eb",
   "metadata": {},
   "outputs": [],
   "source": [
    "4.The Python file read() function allows us to read an entire file at once and store it in a string. Depending on the size of  file, this could make sense for  application."
   ]
  },
  {
   "cell_type": "code",
   "execution_count": 44,
   "id": "4c8eb356-b48e-4cb3-89ea-ee6b886b55ef",
   "metadata": {},
   "outputs": [
    {
     "name": "stdout",
     "output_type": "stream",
     "text": [
      "Data Science Masters course is highly curated and uniquely designed according to the latest industry standards. This program instills students the skills essential to knowledge discovery efforts to identify standard, novel, and truly differentiated solutions and decision-making, including skills in managing, querying, analyzing, visualizing, and extracting meaning from extremely large data sets. This trending program provides students with the statistical, mathematical and computational skills needed to meet the large-scale data science challenges of today's professional world. You will learn all the stack required to work in data science industry including cloud infrastructure and real-time industry projects. This course will be taught in Hindi language.\n"
     ]
    }
   ],
   "source": [
    "#explain\n",
    "with open(\"file2.txt\") as f1:\n",
    "    print(f1.read())"
   ]
  },
  {
   "cell_type": "code",
   "execution_count": null,
   "id": "c9c06b91-6113-4588-a6fa-4013f094f828",
   "metadata": {},
   "outputs": [],
   "source": [
    "readline() reads just one line from a file,"
   ]
  },
  {
   "cell_type": "code",
   "execution_count": 47,
   "id": "976eb336-9b5f-4cf9-98af-d4d3914af25d",
   "metadata": {},
   "outputs": [
    {
     "data": {
      "text/plain": [
       "\"Data Science Masters course is highly curated and uniquely designed according to the latest industry standards. This program instills students the skills essential to knowledge discovery efforts to identify standard, novel, and truly differentiated solutions and decision-making, including skills in managing, querying, analyzing, visualizing, and extracting meaning from extremely large data sets. This trending program provides students with the statistical, mathematical and computational skills needed to meet the large-scale data science challenges of today's professional world. You will learn all the stack required to work in data science industry including cloud infrastructure and real-time industry projects. This course will be taught in Hindi language.\""
      ]
     },
     "execution_count": 47,
     "metadata": {},
     "output_type": "execute_result"
    }
   ],
   "source": [
    "f1=open(\"file2.txt\",'r')\n",
    "f1.readline()"
   ]
  },
  {
   "cell_type": "code",
   "execution_count": null,
   "id": "44b793ad-1e01-45a0-8631-123baa93081a",
   "metadata": {},
   "outputs": [],
   "source": [
    " readlines() returns a list of strings representing the lines of the file."
   ]
  },
  {
   "cell_type": "code",
   "execution_count": 49,
   "id": "87991f9a-db19-44bf-a1db-502ab5b16abd",
   "metadata": {},
   "outputs": [
    {
     "data": {
      "text/plain": [
       "[\"entify standard, novel, and truly differentiated solutions and decision-making, including skills in managing, querying, analyzing, visualizing, and extracting meaning from extremely large data sets. This trending program provides students with the statistical, mathematical and computational skills needed to meet the large-scale data science challenges of today's professional world. You will learn all the stack required to work in data science industry including cloud infrastructure and real-time industry projects. This course will be taught in Hindi language.\"]"
      ]
     },
     "execution_count": 49,
     "metadata": {},
     "output_type": "execute_result"
    }
   ],
   "source": [
    "f1.seek(200)\n",
    "f1.readlines()"
   ]
  },
  {
   "cell_type": "code",
   "execution_count": null,
   "id": "c222ec74-12dd-4826-ae9a-09f503f427b0",
   "metadata": {},
   "outputs": [],
   "source": [
    "5. write() method displays the output but do not provide a new line character.\n",
    "wrielines() method displays the output ad provide a new line character"
   ]
  },
  {
   "cell_type": "code",
   "execution_count": 35,
   "id": "a5a2592b-d7bb-4921-81c0-7540ad00d5b3",
   "metadata": {},
   "outputs": [
    {
     "data": {
      "text/plain": [
       "764"
      ]
     },
     "execution_count": 35,
     "metadata": {},
     "output_type": "execute_result"
    }
   ],
   "source": [
    "f=open(\"file3.txt\",'w')\n",
    "f.write(\"Data Science Masters course is highly curated and uniquely designed according to the latest industry standards. This program instills students the skills essential to knowledge discovery efforts to identify standard, novel, and truly differentiated solutions and decision-making, including skills in managing, querying, analyzing, visualizing, and extracting meaning from extremely large data sets. This trending program provides students with the statistical, mathematical and computational skills needed to meet the large-scale data science challenges of today's professional world. You will learn all the stack required to work in data science industry including cloud infrastructure and real-time industry projects. This course will be taught in Hindi language\")"
   ]
  },
  {
   "cell_type": "code",
   "execution_count": 40,
   "id": "7a8ea89e-e701-47da-bc95-fee9afd63012",
   "metadata": {},
   "outputs": [],
   "source": [
    "f.writelines(\"i want to be a data scientist\")"
   ]
  },
  {
   "cell_type": "code",
   "execution_count": 50,
   "id": "a8035bf1-3268-4905-90c0-1cb9a7c43bd7",
   "metadata": {},
   "outputs": [
    {
     "data": {
      "text/plain": [
       "\"Data Science Masters course is highly curated and uniquely designed according to the latest industry standards. This program instills students the skills essential to knowledge discovery efforts to identify standard, novel, and truly differentiated solutions and decision-making, including skills in managing, querying, analyzing, visualizing, and extracting meaning from extremely large data sets. This trending program provides students with the statistical, mathematical and computational skills needed to meet the large-scale data science challenges of today's professional world. You will learn all the stack required to work in data science industry including cloud infrastructure and real-time industry projects. This course will be taught in Hindi languagei want to be a data scientist\""
      ]
     },
     "execution_count": 50,
     "metadata": {},
     "output_type": "execute_result"
    }
   ],
   "source": [
    "f=open('file3.txt','r')\n",
    "f.read()"
   ]
  },
  {
   "cell_type": "code",
   "execution_count": null,
   "id": "5d848a12-8101-4963-93bb-2dd79436de6e",
   "metadata": {},
   "outputs": [],
   "source": []
  }
 ],
 "metadata": {
  "kernelspec": {
   "display_name": "Python 3 (ipykernel)",
   "language": "python",
   "name": "python3"
  },
  "language_info": {
   "codemirror_mode": {
    "name": "ipython",
    "version": 3
   },
   "file_extension": ".py",
   "mimetype": "text/x-python",
   "name": "python",
   "nbconvert_exporter": "python",
   "pygments_lexer": "ipython3",
   "version": "3.10.8"
  }
 },
 "nbformat": 4,
 "nbformat_minor": 5
}
