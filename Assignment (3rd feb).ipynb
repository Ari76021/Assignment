{
 "cells": [
  {
   "cell_type": "code",
   "execution_count": 1,
   "id": "0b47d256-0cd1-4096-97b8-f545f60a27b1",
   "metadata": {},
   "outputs": [],
   "source": [
    "1.def keyword is used to create a function"
   ]
  },
  {
   "cell_type": "code",
   "execution_count": 30,
   "id": "2f268732-597b-48e3-b1f8-38c99bbfc00a",
   "metadata": {},
   "outputs": [],
   "source": [
    "#list of odd numbers\n",
    "def odd_numbers(n):\n",
    "    l1=[]\n",
    "    for i in range(25):\n",
    "        if i%2!=0:\n",
    "            l1.append(i)\n",
    "    return l1"
   ]
  },
  {
   "cell_type": "code",
   "execution_count": 31,
   "id": "ed54b40f-be54-420c-9976-76f488efadb9",
   "metadata": {},
   "outputs": [
    {
     "data": {
      "text/plain": [
       "[1, 3, 5, 7, 9, 11, 13, 15, 17, 19, 21, 23]"
      ]
     },
     "execution_count": 31,
     "metadata": {},
     "output_type": "execute_result"
    }
   ],
   "source": [
    "odd_numbers(25)"
   ]
  },
  {
   "cell_type": "code",
   "execution_count": null,
   "id": "63b5c64f-084e-4bd8-bc2c-06fb5fa19c9e",
   "metadata": {},
   "outputs": [],
   "source": [
    "2. *args and **kwargs is used to pass multiple arguments or keyword arguement to a function\n",
    "*args receives arguement as a tuple\n",
    "**kwargs receives arguement as a dictionary"
   ]
  },
  {
   "cell_type": "code",
   "execution_count": 3,
   "id": "2dcb4e3b-9fa5-41ed-9c8e-b16f16a4d048",
   "metadata": {},
   "outputs": [],
   "source": [
    "#2. with *args\n",
    "def test(*args):\n",
    "    return args"
   ]
  },
  {
   "cell_type": "code",
   "execution_count": 4,
   "id": "0b9b2029-7774-4f4f-b525-9c51f9bf363c",
   "metadata": {},
   "outputs": [
    {
     "data": {
      "text/plain": [
       "(1, 2, 3, 4, 5, 6, 7)"
      ]
     },
     "execution_count": 4,
     "metadata": {},
     "output_type": "execute_result"
    }
   ],
   "source": [
    "test(1,2,3,4,5,6,7)"
   ]
  },
  {
   "cell_type": "code",
   "execution_count": 5,
   "id": "b42870d2-df71-4cf9-95a5-5b56ea1cb614",
   "metadata": {},
   "outputs": [],
   "source": [
    "#2. with**kwargs\n",
    "def test1(**kwargs):\n",
    "    return kwargs"
   ]
  },
  {
   "cell_type": "code",
   "execution_count": 6,
   "id": "c70afd78-ca3d-4d55-9db3-131f162ab564",
   "metadata": {},
   "outputs": [
    {
     "data": {
      "text/plain": [
       "{}"
      ]
     },
     "execution_count": 6,
     "metadata": {},
     "output_type": "execute_result"
    }
   ],
   "source": [
    "test1()"
   ]
  },
  {
   "cell_type": "code",
   "execution_count": 7,
   "id": "a479aebe-0756-4fc4-86b6-ac3b37e61929",
   "metadata": {},
   "outputs": [
    {
     "data": {
      "text/plain": [
       "dict"
      ]
     },
     "execution_count": 7,
     "metadata": {},
     "output_type": "execute_result"
    }
   ],
   "source": [
    "type(test1())"
   ]
  },
  {
   "cell_type": "code",
   "execution_count": 8,
   "id": "c12867ba-f55f-429c-b796-d4e66b58a1ea",
   "metadata": {},
   "outputs": [
    {
     "data": {
      "text/plain": [
       "{'a': 'arindam', 'b': 'das', 'c': [1, 2, 3, 4, 5], 'd': 1.234, 'e': 234}"
      ]
     },
     "execution_count": 8,
     "metadata": {},
     "output_type": "execute_result"
    }
   ],
   "source": [
    "test1(a=\"arindam\",b=\"das\",c=[1,2,3,4,5],d=1.234,e=234)"
   ]
  },
  {
   "cell_type": "code",
   "execution_count": null,
   "id": "d400332a-3127-4a8e-a24c-ab0a3d6fa393",
   "metadata": {},
   "outputs": [],
   "source": [
    "3. iterator is an object from which we can extract data or iterate using iter() function.\n",
    "a python iterator has two special method----\n",
    "             (1) iter()\n",
    "             (2) next()"
   ]
  },
  {
   "cell_type": "code",
   "execution_count": 10,
   "id": "ca88a251-4d89-4abb-b784-93d20e4cac1c",
   "metadata": {},
   "outputs": [],
   "source": [
    "#3.print first five elements\n",
    "l=[2,4,6,8,10,12,14,16,18,20]\n",
    "l2=iter(l)"
   ]
  },
  {
   "cell_type": "code",
   "execution_count": 11,
   "id": "c0e7ddd9-39f6-4795-b1e4-805c28c52cbd",
   "metadata": {},
   "outputs": [
    {
     "data": {
      "text/plain": [
       "2"
      ]
     },
     "execution_count": 11,
     "metadata": {},
     "output_type": "execute_result"
    }
   ],
   "source": [
    "next(l2)"
   ]
  },
  {
   "cell_type": "code",
   "execution_count": 12,
   "id": "c472fddc-cba8-4973-ba51-91fac1b37e38",
   "metadata": {},
   "outputs": [
    {
     "data": {
      "text/plain": [
       "4"
      ]
     },
     "execution_count": 12,
     "metadata": {},
     "output_type": "execute_result"
    }
   ],
   "source": [
    "next(l2)"
   ]
  },
  {
   "cell_type": "code",
   "execution_count": 13,
   "id": "17e24f52-7223-4cff-9969-74ae4729fa3d",
   "metadata": {},
   "outputs": [
    {
     "data": {
      "text/plain": [
       "6"
      ]
     },
     "execution_count": 13,
     "metadata": {},
     "output_type": "execute_result"
    }
   ],
   "source": [
    "next(l2)"
   ]
  },
  {
   "cell_type": "code",
   "execution_count": 14,
   "id": "6c11f0ae-9687-4a08-8d03-1d252c2001bc",
   "metadata": {},
   "outputs": [
    {
     "data": {
      "text/plain": [
       "8"
      ]
     },
     "execution_count": 14,
     "metadata": {},
     "output_type": "execute_result"
    }
   ],
   "source": [
    "next(l2)"
   ]
  },
  {
   "cell_type": "code",
   "execution_count": 15,
   "id": "21798379-f987-4603-ba84-0f3258c003d6",
   "metadata": {},
   "outputs": [
    {
     "data": {
      "text/plain": [
       "10"
      ]
     },
     "execution_count": 15,
     "metadata": {},
     "output_type": "execute_result"
    }
   ],
   "source": [
    "next(l2)"
   ]
  },
  {
   "cell_type": "code",
   "execution_count": null,
   "id": "eb8447a5-531b-4427-b654-8f89cd9d2dc1",
   "metadata": {},
   "outputs": [],
   "source": [
    "4. generator function provides a generator to create my own iterator function which does not return singal value.it treturns an iterator object with a sequence of values.\n",
    "yeid keyword is used to turn any expression that is given with it into a generator object and return it to the caller."
   ]
  },
  {
   "cell_type": "code",
   "execution_count": 16,
   "id": "0f3a3572-64e0-470c-946e-19d96a7e30bf",
   "metadata": {},
   "outputs": [],
   "source": [
    "#example of generator function\n",
    "#fibonacci\n",
    "def fib(n):\n",
    "    a=0\n",
    "    b=1\n",
    "    for i in range(10):\n",
    "        yield a\n",
    "        a,b=b,a+b"
   ]
  },
  {
   "cell_type": "code",
   "execution_count": 17,
   "id": "b6ba2e9c-3ed4-4b26-9fc2-20d40e2d11b3",
   "metadata": {},
   "outputs": [
    {
     "name": "stdout",
     "output_type": "stream",
     "text": [
      "0\n",
      "1\n",
      "1\n",
      "2\n",
      "3\n",
      "5\n",
      "8\n",
      "13\n",
      "21\n",
      "34\n"
     ]
    }
   ],
   "source": [
    "for i in fib(10):\n",
    "    print(i)"
   ]
  },
  {
   "cell_type": "code",
   "execution_count": 19,
   "id": "abc66f9c-e510-4574-8be2-5c6eb547f4a8",
   "metadata": {},
   "outputs": [
    {
     "name": "stdout",
     "output_type": "stream",
     "text": [
      "0\n",
      "1\n",
      "1\n",
      "2\n",
      "3\n",
      "5\n",
      "8\n",
      "13\n",
      "21\n",
      "34\n",
      "55\n"
     ]
    }
   ],
   "source": [
    "#6.print first 10 fibonacci series\n",
    "a=0\n",
    "b=1\n",
    "count=0\n",
    "while count<=10:\n",
    "    print(a)\n",
    "    c=a+b\n",
    "    a=b\n",
    "    b=c\n",
    "    count=count+1"
   ]
  },
  {
   "cell_type": "code",
   "execution_count": 13,
   "id": "ca6d9542-ec65-4c7a-80f9-19435589319b",
   "metadata": {},
   "outputs": [],
   "source": [
    "#7.Write a List Comprehension to iterate through the given string: ‘pwskills’.Expected output: ['p', 'w', 's', 'k', 'i', 'l', 'l', 's']\n",
    "s='pwskills'"
   ]
  },
  {
   "cell_type": "code",
   "execution_count": 14,
   "id": "ece70f5f-6451-4aa5-a35b-e23f37fb0952",
   "metadata": {},
   "outputs": [],
   "source": [
    "l1=[i for i in s]"
   ]
  },
  {
   "cell_type": "code",
   "execution_count": 15,
   "id": "f6565295-8899-41b4-87ab-dd290e6add15",
   "metadata": {},
   "outputs": [
    {
     "data": {
      "text/plain": [
       "['p', 'w', 's', 'k', 'i', 'l', 'l', 's']"
      ]
     },
     "execution_count": 15,
     "metadata": {},
     "output_type": "execute_result"
    }
   ],
   "source": [
    "l1"
   ]
  },
  {
   "cell_type": "code",
   "execution_count": 19,
   "id": "20fc72b1-e2c8-4258-9d85-5600058848e6",
   "metadata": {},
   "outputs": [
    {
     "name": "stdin",
     "output_type": "stream",
     "text": [
      "Enter a number: 12321\n"
     ]
    },
    {
     "name": "stdout",
     "output_type": "stream",
     "text": [
      "The number is palindrome!\n"
     ]
    }
   ],
   "source": [
    "#8.Write a python program to check whether a given number is Palindrome or not using a while loop.\n",
    "num=int(input(\"Enter a number:\"))\n",
    "temp=num\n",
    "rev=0\n",
    "while(num>0):\n",
    "    dig=num%10\n",
    "    rev=rev*10+dig\n",
    "    num=num//10\n",
    "if(temp==rev):\n",
    "    print(\"The number is palindrome!\")\n",
    "else:\n",
    "    print(\"Not a palindrome!\")"
   ]
  },
  {
   "cell_type": "code",
   "execution_count": 26,
   "id": "65febaab-b3ef-461f-a952-f38b0297887c",
   "metadata": {},
   "outputs": [],
   "source": [
    "#9. Write a code to print odd numbers from 1 to 100 using list comprehension.\n",
    "l1=[i for i in range(1,100) if i%2!=0]"
   ]
  },
  {
   "cell_type": "code",
   "execution_count": 27,
   "id": "bf8764c0-03f8-458b-ab5d-e1518e4292ac",
   "metadata": {},
   "outputs": [
    {
     "data": {
      "text/plain": [
       "[1,\n",
       " 3,\n",
       " 5,\n",
       " 7,\n",
       " 9,\n",
       " 11,\n",
       " 13,\n",
       " 15,\n",
       " 17,\n",
       " 19,\n",
       " 21,\n",
       " 23,\n",
       " 25,\n",
       " 27,\n",
       " 29,\n",
       " 31,\n",
       " 33,\n",
       " 35,\n",
       " 37,\n",
       " 39,\n",
       " 41,\n",
       " 43,\n",
       " 45,\n",
       " 47,\n",
       " 49,\n",
       " 51,\n",
       " 53,\n",
       " 55,\n",
       " 57,\n",
       " 59,\n",
       " 61,\n",
       " 63,\n",
       " 65,\n",
       " 67,\n",
       " 69,\n",
       " 71,\n",
       " 73,\n",
       " 75,\n",
       " 77,\n",
       " 79,\n",
       " 81,\n",
       " 83,\n",
       " 85,\n",
       " 87,\n",
       " 89,\n",
       " 91,\n",
       " 93,\n",
       " 95,\n",
       " 97,\n",
       " 99]"
      ]
     },
     "execution_count": 27,
     "metadata": {},
     "output_type": "execute_result"
    }
   ],
   "source": [
    "l1"
   ]
  },
  {
   "cell_type": "code",
   "execution_count": null,
   "id": "033e2e46-ed1b-49e4-b736-f32d8e939129",
   "metadata": {},
   "outputs": [],
   "source": [
    "num= int(input(\"enter a number:\"))\n",
    "a=0\n",
    "if num==0 or num==1:\n",
    "    a=1\n",
    "for i in num:\n",
    "    yield i\n",
    "    if num%i==0:\n",
    "        a=1;"
   ]
  }
 ],
 "metadata": {
  "kernelspec": {
   "display_name": "Python 3 (ipykernel)",
   "language": "python",
   "name": "python3"
  },
  "language_info": {
   "codemirror_mode": {
    "name": "ipython",
    "version": 3
   },
   "file_extension": ".py",
   "mimetype": "text/x-python",
   "name": "python",
   "nbconvert_exporter": "python",
   "pygments_lexer": "ipython3",
   "version": "3.10.8"
  }
 },
 "nbformat": 4,
 "nbformat_minor": 5
}
