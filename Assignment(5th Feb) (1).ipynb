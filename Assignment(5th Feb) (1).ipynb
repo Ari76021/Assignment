{
 "cells": [
  {
   "cell_type": "code",
   "execution_count": null,
   "id": "bbe2ab67-0cf4-4794-962b-56d6e12381e8",
   "metadata": {},
   "outputs": [],
   "source": [
    "1. We use the class keyword to create a class in Python.An object is called an instance of a class."
   ]
  },
  {
   "cell_type": "code",
   "execution_count": 10,
   "id": "02a242ab-7979-4bae-a0d7-b8f134082297",
   "metadata": {},
   "outputs": [],
   "source": [
    "#example\n",
    "class shark_tank:\n",
    "    def welcome_message(self):\n",
    "        print(\"welcome to shark tank\")"
   ]
  },
  {
   "cell_type": "code",
   "execution_count": 13,
   "id": "758420ce-27e0-4b3f-b8e2-4436078749dc",
   "metadata": {},
   "outputs": [],
   "source": [
    "Arindam=shark_tank()"
   ]
  },
  {
   "cell_type": "code",
   "execution_count": 14,
   "id": "16e2f84f-c231-4065-a051-08fcc2c4cac6",
   "metadata": {},
   "outputs": [
    {
     "name": "stdout",
     "output_type": "stream",
     "text": [
      "welcome to shark tank\n"
     ]
    }
   ],
   "source": [
    "Arindam.welcome_message()"
   ]
  },
  {
   "cell_type": "code",
   "execution_count": null,
   "id": "4bf0abd8-469b-485e-836c-778a43c64717",
   "metadata": {},
   "outputs": [],
   "source": [
    "2. The four pillars of OOP or Object Oriented Programming are :\n",
    "\n",
    "Inheritance\n",
    "Encapsulation\n",
    "Polymorphism\n",
    "Abstraction"
   ]
  },
  {
   "cell_type": "code",
   "execution_count": null,
   "id": "bf881efd-621b-48b2-8d14-9a3620d76c27",
   "metadata": {},
   "outputs": [],
   "source": [
    "3. __init__() The function takes in self and the object parameters as input"
   ]
  },
  {
   "cell_type": "code",
   "execution_count": 32,
   "id": "ed1302e5-590e-4268-b8d3-59d68e016bbe",
   "metadata": {},
   "outputs": [],
   "source": [
    "#example\n",
    "class adamas_university:\n",
    "    def __init__(self,phone_number,email_id,student_id):\n",
    "        self.phone_number=phone_number\n",
    "        self.email_id=email_id\n",
    "        self.student_id=student_id\n",
    "    def return_student_details(self):\n",
    "        return self.phone_number,self.email_id,self.student_id"
   ]
  },
  {
   "cell_type": "code",
   "execution_count": 33,
   "id": "1aef76ee-a922-496f-b0fd-38258f8f9742",
   "metadata": {},
   "outputs": [],
   "source": [
    "Arindam=adamas_university(1234567890,\"abc@gmail.com\",1233)"
   ]
  },
  {
   "cell_type": "code",
   "execution_count": 34,
   "id": "3ab740f8-d485-486d-8ea3-90c3042b5b3b",
   "metadata": {},
   "outputs": [
    {
     "data": {
      "text/plain": [
       "(1234567890, 'abc@gmail.com', 1233)"
      ]
     },
     "execution_count": 34,
     "metadata": {},
     "output_type": "execute_result"
    }
   ],
   "source": [
    "Arindam.return_student_details()"
   ]
  },
  {
   "cell_type": "code",
   "execution_count": null,
   "id": "8866086c-05f9-42e0-b388-bbe31a845308",
   "metadata": {},
   "outputs": [],
   "source": [
    "4. self represents the instance of the class. By using the self  we can access the attributes and methods of the class in python. It binds the attributes with the given arguments."
   ]
  },
  {
   "cell_type": "code",
   "execution_count": null,
   "id": "4dfb8723-36a1-4eec-b277-5b74ae872248",
   "metadata": {},
   "outputs": [],
   "source": [
    "5. Inheritance is the capability of one class to derive or inherit the properties from another class. \n",
    "there are two types of inheritence\n",
    "    (1)- single level inheritence\n",
    "    (2)- multi level inheritence"
   ]
  },
  {
   "cell_type": "code",
   "execution_count": 1,
   "id": "ed261463-1d28-4cc9-84bf-6d027691b882",
   "metadata": {},
   "outputs": [],
   "source": [
    "#single level inheritence\n",
    "class class1:\n",
    "    def class_test1(self):\n",
    "        return \"this is my class 1\""
   ]
  },
  {
   "cell_type": "code",
   "execution_count": 3,
   "id": "b4c8fd25-1f33-4fa9-9a2f-4cd9136a2da0",
   "metadata": {},
   "outputs": [],
   "source": [
    "class class2(class1):\n",
    "    def class_test(class1):\n",
    "        return \"this is my class 2\"\n",
    "        \n",
    "    "
   ]
  },
  {
   "cell_type": "code",
   "execution_count": 5,
   "id": "b38242c8-190b-4a68-92db-3fc9c11e1bea",
   "metadata": {},
   "outputs": [],
   "source": [
    "class class3(class2):\n",
    "    pass"
   ]
  },
  {
   "cell_type": "code",
   "execution_count": 6,
   "id": "126a6bd8-185c-4934-ab8b-4656288a13f5",
   "metadata": {},
   "outputs": [],
   "source": [
    "class_obj=class3()"
   ]
  },
  {
   "cell_type": "code",
   "execution_count": 8,
   "id": "38f942a2-ca23-42fb-9c41-ba4d17adfc42",
   "metadata": {},
   "outputs": [
    {
     "data": {
      "text/plain": [
       "'this is my class 1'"
      ]
     },
     "execution_count": 8,
     "metadata": {},
     "output_type": "execute_result"
    }
   ],
   "source": [
    "class_obj.class_test1()"
   ]
  },
  {
   "cell_type": "code",
   "execution_count": 9,
   "id": "25d76b86-29a7-4626-bc27-7d20ac3abd6b",
   "metadata": {},
   "outputs": [
    {
     "data": {
      "text/plain": [
       "'this is my class 2'"
      ]
     },
     "execution_count": 9,
     "metadata": {},
     "output_type": "execute_result"
    }
   ],
   "source": [
    "class_obj.class_test()"
   ]
  },
  {
   "cell_type": "code",
   "execution_count": 10,
   "id": "a062e002-ded4-4363-ab52-c6dbbc6522b6",
   "metadata": {},
   "outputs": [],
   "source": [
    "#multi level inheritence\n",
    "class class1:\n",
    "    def class_test1(self):\n",
    "        return \"this is my 1st class\""
   ]
  },
  {
   "cell_type": "code",
   "execution_count": 13,
   "id": "e6ded05b-e53e-4639-8f17-234acadfebdb",
   "metadata": {},
   "outputs": [],
   "source": [
    "class class2(class1):\n",
    "    def class_test2(class1):\n",
    "        return \"this is my 2nd class\""
   ]
  },
  {
   "cell_type": "code",
   "execution_count": 14,
   "id": "5dfe58e8-8e16-420d-9eb3-a04c90e69d30",
   "metadata": {},
   "outputs": [],
   "source": [
    "class class3(class2):\n",
    "    def class_test3(class2):\n",
    "        return \"this is my 3rd class\""
   ]
  },
  {
   "cell_type": "code",
   "execution_count": 18,
   "id": "e3186f94-2717-42af-8e79-6eb7931fe3e5",
   "metadata": {},
   "outputs": [],
   "source": [
    "class class4(class3,class2,class1):\n",
    "    def class_test4(class3):\n",
    "        pass"
   ]
  },
  {
   "cell_type": "code",
   "execution_count": 19,
   "id": "97271f18-88b4-4353-8f5a-cd2a250e11f8",
   "metadata": {},
   "outputs": [],
   "source": [
    "obj_class=class4()"
   ]
  },
  {
   "cell_type": "code",
   "execution_count": 21,
   "id": "bcc721bd-12ab-49e0-b1aa-6f3e1b55eb76",
   "metadata": {},
   "outputs": [
    {
     "data": {
      "text/plain": [
       "'this is my 3rd class'"
      ]
     },
     "execution_count": 21,
     "metadata": {},
     "output_type": "execute_result"
    }
   ],
   "source": [
    "obj_class.class_test3()"
   ]
  },
  {
   "cell_type": "code",
   "execution_count": null,
   "id": "f854ec57-9586-4e45-97bd-1925e3a75408",
   "metadata": {},
   "outputs": [],
   "source": []
  }
 ],
 "metadata": {
  "kernelspec": {
   "display_name": "Python 3 (ipykernel)",
   "language": "python",
   "name": "python3"
  },
  "language_info": {
   "codemirror_mode": {
    "name": "ipython",
    "version": 3
   },
   "file_extension": ".py",
   "mimetype": "text/x-python",
   "name": "python",
   "nbconvert_exporter": "python",
   "pygments_lexer": "ipython3",
   "version": "3.10.8"
  }
 },
 "nbformat": 4,
 "nbformat_minor": 5
}
