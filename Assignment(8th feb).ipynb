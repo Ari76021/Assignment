{
 "cells": [
  {
   "cell_type": "code",
   "execution_count": null,
   "id": "5b9e2505-4b25-4811-bb14-a01532222746",
   "metadata": {},
   "outputs": [],
   "source": [
    "1. Abstraction in python is defined as a process of handling complexity by hiding unnecessary information from the user"
   ]
  },
  {
   "cell_type": "code",
   "execution_count": 1,
   "id": "2272c07f-f526-4202-a467-ad8ee66490f1",
   "metadata": {},
   "outputs": [],
   "source": [
    "#example\n",
    "class sem1:\n",
    "    def syllabus(self):\n",
    "        print(\"this is sem1 syllabus\")\n",
    "class sem2:\n",
    "    def syllabus(self):\n",
    "        print(\"this is my sem2 syllabus\")"
   ]
  },
  {
   "cell_type": "code",
   "execution_count": 5,
   "id": "575fc8db-8b71-42df-aeb2-f8ebb9965e68",
   "metadata": {},
   "outputs": [],
   "source": [
    "def class_parcer(class_obj):\n",
    "    for i in class_obj:\n",
    "        i.syllabus()"
   ]
  },
  {
   "cell_type": "code",
   "execution_count": 7,
   "id": "5193b049-4ca3-4de5-ab02-7c06fb7e6607",
   "metadata": {},
   "outputs": [],
   "source": [
    "sem1=sem1()\n",
    "sem2=sem2()"
   ]
  },
  {
   "cell_type": "code",
   "execution_count": 8,
   "id": "4aa17f28-7335-4ce3-bea5-8638b1300802",
   "metadata": {},
   "outputs": [],
   "source": [
    "class_obj=[sem1,sem2]"
   ]
  },
  {
   "cell_type": "code",
   "execution_count": 9,
   "id": "86de584d-439a-429b-b523-4a6d3d5f18d3",
   "metadata": {},
   "outputs": [
    {
     "name": "stdout",
     "output_type": "stream",
     "text": [
      "this is sem1 syllabus\n",
      "this is my sem2 syllabus\n"
     ]
    }
   ],
   "source": [
    "class_parcer(class_obj)"
   ]
  },
  {
   "cell_type": "code",
   "execution_count": null,
   "id": "3464ab7d-489d-45a8-92b7-305b630ac254",
   "metadata": {},
   "outputs": [],
   "source": [
    "2. Encapsulation is basically binding data members & member functions into a single unit called Class. Whereas Abstraction is basically to hide implementation complexity & provide ease of access to the users"
   ]
  },
  {
   "cell_type": "code",
   "execution_count": 1,
   "id": "d46e048a-0fa0-4da2-a737-c3511575b327",
   "metadata": {},
   "outputs": [],
   "source": [
    "#example of abstraction\n",
    "class cse:\n",
    "    def course_struct(self):\n",
    "        print(\"this is the course structur of cse\")\n",
    "class ece:\n",
    "    def course_struct(self):\n",
    "        print(\"this is the course structure of ece\")"
   ]
  },
  {
   "cell_type": "code",
   "execution_count": 28,
   "id": "d8172575-4d6a-4216-a1dd-d5512ab9d4af",
   "metadata": {},
   "outputs": [],
   "source": [
    "def course(obj):\n",
    "    for i in obj:\n",
    "        i.course()"
   ]
  },
  {
   "cell_type": "code",
   "execution_count": 29,
   "id": "4c8b49d2-4d8c-434d-9d5e-cf563a05496a",
   "metadata": {},
   "outputs": [],
   "source": [
    "obj=[cse,ece]"
   ]
  },
  {
   "cell_type": "code",
   "execution_count": 30,
   "id": "4a7c119c-7c21-4fb7-8b54-84ec207b3799",
   "metadata": {},
   "outputs": [
    {
     "name": "stdout",
     "output_type": "stream",
     "text": [
      "this is the course structur of cse\n",
      "this is the course structure of ece\n"
     ]
    }
   ],
   "source": [
    "course_struct(obj)"
   ]
  },
  {
   "cell_type": "code",
   "execution_count": 17,
   "id": "17f092d7-a4b2-461a-90b7-59ed5ae91859",
   "metadata": {},
   "outputs": [],
   "source": [
    "#example of encapsulism\n",
    "class bank_account:\n",
    "    def __init__(self,balance):\n",
    "        self.__balance=balance\n",
    "    def deposit(self,amount):\n",
    "        self.__balance=self.__balance+amount\n",
    "    def withdraw(self,amount):\n",
    "        if self.__balance>=amount:\n",
    "            self.__balance=self.__balance-amount\n",
    "            return True\n",
    "        else:\n",
    "            return False\n",
    "        \n",
    "    def get_balance(self):\n",
    "        return self.__balance\n",
    "        "
   ]
  },
  {
   "cell_type": "code",
   "execution_count": 18,
   "id": "c96eaad5-c195-4aee-80c1-a9e5d2239404",
   "metadata": {},
   "outputs": [],
   "source": [
    "Arindam=bank_account(2000)"
   ]
  },
  {
   "cell_type": "code",
   "execution_count": 19,
   "id": "7f3b3b95-8cc7-4d6c-9846-47d339335e25",
   "metadata": {},
   "outputs": [
    {
     "data": {
      "text/plain": [
       "2000"
      ]
     },
     "execution_count": 19,
     "metadata": {},
     "output_type": "execute_result"
    }
   ],
   "source": [
    "Arindam.get_balance()"
   ]
  },
  {
   "cell_type": "code",
   "execution_count": 20,
   "id": "694ccecc-3859-4289-9d48-68a8d2b1ea15",
   "metadata": {},
   "outputs": [],
   "source": [
    "Arindam.deposit(1000)"
   ]
  },
  {
   "cell_type": "code",
   "execution_count": 21,
   "id": "b58cb815-4319-455d-880a-4b3311971c60",
   "metadata": {},
   "outputs": [
    {
     "data": {
      "text/plain": [
       "3000"
      ]
     },
     "execution_count": 21,
     "metadata": {},
     "output_type": "execute_result"
    }
   ],
   "source": [
    "Arindam.get_balance()"
   ]
  },
  {
   "cell_type": "code",
   "execution_count": 22,
   "id": "2c8ad251-1205-4f31-98bf-6b9155589be3",
   "metadata": {},
   "outputs": [
    {
     "data": {
      "text/plain": [
       "False"
      ]
     },
     "execution_count": 22,
     "metadata": {},
     "output_type": "execute_result"
    }
   ],
   "source": [
    "Arindam.withdraw(5000)"
   ]
  },
  {
   "cell_type": "code",
   "execution_count": 23,
   "id": "f57aa188-b5eb-4435-b353-9443d39aeb27",
   "metadata": {},
   "outputs": [
    {
     "data": {
      "text/plain": [
       "True"
      ]
     },
     "execution_count": 23,
     "metadata": {},
     "output_type": "execute_result"
    }
   ],
   "source": [
    "Arindam.withdraw(1000)"
   ]
  },
  {
   "cell_type": "code",
   "execution_count": 24,
   "id": "52ddd4e3-fcbb-45d6-818a-9f370e9f029b",
   "metadata": {},
   "outputs": [
    {
     "data": {
      "text/plain": [
       "2000"
      ]
     },
     "execution_count": 24,
     "metadata": {},
     "output_type": "execute_result"
    }
   ],
   "source": [
    "Arindam.get_balance()"
   ]
  },
  {
   "cell_type": "code",
   "execution_count": 25,
   "id": "cd165bc7-724f-44c8-9709-4545d939a934",
   "metadata": {},
   "outputs": [
    {
     "data": {
      "text/plain": [
       "True"
      ]
     },
     "execution_count": 25,
     "metadata": {},
     "output_type": "execute_result"
    }
   ],
   "source": [
    "Arindam.withdraw(1500)"
   ]
  },
  {
   "cell_type": "code",
   "execution_count": 26,
   "id": "2bb488bd-8524-4eae-a138-adc2640a35cb",
   "metadata": {},
   "outputs": [
    {
     "data": {
      "text/plain": [
       "500"
      ]
     },
     "execution_count": 26,
     "metadata": {},
     "output_type": "execute_result"
    }
   ],
   "source": [
    "Arindam.get_balance()"
   ]
  },
  {
   "cell_type": "code",
   "execution_count": null,
   "id": "b2f9b7a9-f3af-4a2b-85fc-0795f6bd905b",
   "metadata": {},
   "outputs": [],
   "source": [
    "3. The 'abc' module in Python library provides the infrastructure for defining custom abstract base classes\n",
    "ABCs introduce virtual subclasses, which are classes that don’t inherit from a class but are still recognized by isinstance() and issubclass() functions so it is used in python"
   ]
  },
  {
   "cell_type": "code",
   "execution_count": null,
   "id": "085cca46-bce2-4af5-ae57-9bcfebe726e7",
   "metadata": {},
   "outputs": [],
   "source": []
  }
 ],
 "metadata": {
  "kernelspec": {
   "display_name": "Python 3 (ipykernel)",
   "language": "python",
   "name": "python3"
  },
  "language_info": {
   "codemirror_mode": {
    "name": "ipython",
    "version": 3
   },
   "file_extension": ".py",
   "mimetype": "text/x-python",
   "name": "python",
   "nbconvert_exporter": "python",
   "pygments_lexer": "ipython3",
   "version": "3.10.8"
  }
 },
 "nbformat": 4,
 "nbformat_minor": 5
}
