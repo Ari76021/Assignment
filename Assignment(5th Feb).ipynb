{
 "cells": [
  {
   "cell_type": "code",
   "execution_count": null,
   "id": "bbe2ab67-0cf4-4794-962b-56d6e12381e8",
   "metadata": {},
   "outputs": [],
   "source": [
    "1. We use the class keyword to create a class in Python.An object is called an instance of a class."
   ]
  },
  {
   "cell_type": "code",
   "execution_count": 10,
   "id": "02a242ab-7979-4bae-a0d7-b8f134082297",
   "metadata": {},
   "outputs": [],
   "source": [
    "#example\n",
    "class shark_tank:\n",
    "    def welcome_message(self):\n",
    "        print(\"welcome to shark tank\")"
   ]
  },
  {
   "cell_type": "code",
   "execution_count": 13,
   "id": "758420ce-27e0-4b3f-b8e2-4436078749dc",
   "metadata": {},
   "outputs": [],
   "source": [
    "Arindam=shark_tank()"
   ]
  },
  {
   "cell_type": "code",
   "execution_count": 14,
   "id": "16e2f84f-c231-4065-a051-08fcc2c4cac6",
   "metadata": {},
   "outputs": [
    {
     "name": "stdout",
     "output_type": "stream",
     "text": [
      "welcome to shark tank\n"
     ]
    }
   ],
   "source": [
    "Arindam.welcome_message()"
   ]
  },
  {
   "cell_type": "code",
   "execution_count": null,
   "id": "4bf0abd8-469b-485e-836c-778a43c64717",
   "metadata": {},
   "outputs": [],
   "source": [
    "2. The four pillars of OOP or Object Oriented Programming are :\n",
    "\n",
    "Inheritance\n",
    "Encapsulation\n",
    "Polymorphism\n",
    "Abstraction"
   ]
  },
  {
   "cell_type": "code",
   "execution_count": null,
   "id": "bf881efd-621b-48b2-8d14-9a3620d76c27",
   "metadata": {},
   "outputs": [],
   "source": [
    "3. __init__() The function takes in self and the object parameters as input"
   ]
  },
  {
   "cell_type": "code",
   "execution_count": 32,
   "id": "ed1302e5-590e-4268-b8d3-59d68e016bbe",
   "metadata": {},
   "outputs": [],
   "source": [
    "#example\n",
    "class adamas_university:\n",
    "    def __init__(self,phone_number,email_id,student_id):\n",
    "        self.phone_number=phone_number\n",
    "        self.email_id=email_id\n",
    "        self.student_id=student_id\n",
    "    def return_student_details(self):\n",
    "        return self.phone_number,self.email_id,self.student_id"
   ]
  },
  {
   "cell_type": "code",
   "execution_count": 33,
   "id": "1aef76ee-a922-496f-b0fd-38258f8f9742",
   "metadata": {},
   "outputs": [],
   "source": [
    "Arindam=adamas_university(1234567890,\"abc@gmail.com\",1233)"
   ]
  },
  {
   "cell_type": "code",
   "execution_count": 34,
   "id": "3ab740f8-d485-486d-8ea3-90c3042b5b3b",
   "metadata": {},
   "outputs": [
    {
     "data": {
      "text/plain": [
       "(1234567890, 'abc@gmail.com', 1233)"
      ]
     },
     "execution_count": 34,
     "metadata": {},
     "output_type": "execute_result"
    }
   ],
   "source": [
    "Arindam.return_student_details()"
   ]
  },
  {
   "cell_type": "code",
   "execution_count": null,
   "id": "8866086c-05f9-42e0-b388-bbe31a845308",
   "metadata": {},
   "outputs": [],
   "source": [
    "4. self represents the instance of the class. By using the self  we can access the attributes and methods of the class in python. It binds the attributes with the given arguments."
   ]
  },
  {
   "cell_type": "code",
   "execution_count": null,
   "id": "4dfb8723-36a1-4eec-b277-5b74ae872248",
   "metadata": {},
   "outputs": [],
   "source": [
    "5. Inheritance is the capability of one class to derive or inherit the properties from another class. "
   ]
  },
  {
   "cell_type": "code",
   "execution_count": null,
   "id": "ed261463-1d28-4cc9-84bf-6d027691b882",
   "metadata": {},
   "outputs": [],
   "source": [
    "#example"
   ]
  }
 ],
 "metadata": {
  "kernelspec": {
   "display_name": "Python 3 (ipykernel)",
   "language": "python",
   "name": "python3"
  },
  "language_info": {
   "codemirror_mode": {
    "name": "ipython",
    "version": 3
   },
   "file_extension": ".py",
   "mimetype": "text/x-python",
   "name": "python",
   "nbconvert_exporter": "python",
   "pygments_lexer": "ipython3",
   "version": "3.10.8"
  }
 },
 "nbformat": 4,
 "nbformat_minor": 5
}
