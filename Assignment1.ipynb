{
 "cells": [
  {
   "cell_type": "code",
   "execution_count": null,
   "id": "3294a582-9890-4dd8-a3c0-bc9770a02599",
   "metadata": {},
   "outputs": [],
   "source": [
    "1. Guido Van Rossum developed python programming language."
   ]
  },
  {
   "cell_type": "code",
   "execution_count": null,
   "id": "fd69741d-9d8f-498b-bf85-f751af0a3d75",
   "metadata": {
    "tags": []
   },
   "outputs": [],
   "source": [
    "2. Python supports object oriented, structured, functional programming."
   ]
  },
  {
   "cell_type": "code",
   "execution_count": null,
   "id": "ea81c8df-311e-40e6-8eb1-bbc0158a8a94",
   "metadata": {},
   "outputs": [],
   "source": [
    "3. Yes, Python is case sensitive whe dealing with identifiers."
   ]
  },
  {
   "cell_type": "code",
   "execution_count": null,
   "id": "9f38feff-b8f2-441b-b448-48fbbaa01246",
   "metadata": {},
   "outputs": [],
   "source": [
    "4. .py is the correct extension of the python file."
   ]
  },
  {
   "cell_type": "code",
   "execution_count": null,
   "id": "b947a119-3409-47e6-a48d-4970e0b5b609",
   "metadata": {},
   "outputs": [],
   "source": [
    "5. python code is interpreted"
   ]
  },
  {
   "cell_type": "code",
   "execution_count": null,
   "id": "1c67de79-8010-4896-881c-3b3027267730",
   "metadata": {},
   "outputs": [],
   "source": [
    "6. A module, a function body, a class definition. These are the few blocks of code used to define in python programming language"
   ]
  },
  {
   "cell_type": "code",
   "execution_count": null,
   "id": "9a5caf40-fbba-4e8d-bb9b-0e79ecdda0d0",
   "metadata": {},
   "outputs": [],
   "source": [
    "7. A single '#' character is used to give single line comments in python."
   ]
  },
  {
   "cell_type": "code",
   "execution_count": null,
   "id": "e9e99059-badf-4f86-8787-8710a44cb50a",
   "metadata": {},
   "outputs": [],
   "source": [
    "8. sys.version help us to find the version of python that we are currently working on."
   ]
  },
  {
   "cell_type": "code",
   "execution_count": null,
   "id": "3bc0359e-a326-4fa1-aa4a-2f18226b2e91",
   "metadata": {},
   "outputs": [],
   "source": [
    "9. python supports the creation of anonymous function at runtime,using a construct called lambda."
   ]
  },
  {
   "cell_type": "code",
   "execution_count": null,
   "id": "f68599d6-57f0-4d77-8568-7b6f38176317",
   "metadata": {},
   "outputs": [],
   "source": [
    "10. pip stands for preferred installer program."
   ]
  },
  {
   "cell_type": "code",
   "execution_count": null,
   "id": "5bff9b58-90a7-41c4-96aa-28839a6fb48d",
   "metadata": {},
   "outputs": [],
   "source": [
    "11. few built in functions in python are - print(), type() etc"
   ]
  },
  {
   "cell_type": "code",
   "execution_count": null,
   "id": "2e97a5e1-f041-4f9a-bb33-8686724f39e1",
   "metadata": {},
   "outputs": [],
   "source": [
    "12. 79 is the maximum possible length of an identifier in python."
   ]
  },
  {
   "cell_type": "code",
   "execution_count": null,
   "id": "c5ac9a9a-fe3f-46fb-b975-9fbfb95cdc42",
   "metadata": {},
   "outputs": [],
   "source": [
    "13. There are many benefits using python some of them are- extensive libraries, portability etc. "
   ]
  },
  {
   "cell_type": "code",
   "execution_count": null,
   "id": "da9711b4-df91-4917-8a2e-e6706c7df200",
   "metadata": {},
   "outputs": [],
   "source": [
    "14. Memory management in python involves a private heap containing all python objects and data structures."
   ]
  },
  {
   "cell_type": "code",
   "execution_count": null,
   "id": "7eca47de-2a15-45e9-812b-3a2e58ed88ce",
   "metadata": {},
   "outputs": [],
   "source": [
    "15."
   ]
  },
  {
   "cell_type": "code",
   "execution_count": null,
   "id": "c94d78ab-6844-484f-a1a3-c15d297b0217",
   "metadata": {},
   "outputs": [],
   "source": [
    "16. The indentation in python is very important."
   ]
  }
 ],
 "metadata": {
  "kernelspec": {
   "display_name": "Python 3 (ipykernel)",
   "language": "python",
   "name": "python3"
  },
  "language_info": {
   "codemirror_mode": {
    "name": "ipython",
    "version": 3
   },
   "file_extension": ".py",
   "mimetype": "text/x-python",
   "name": "python",
   "nbconvert_exporter": "python",
   "pygments_lexer": "ipython3",
   "version": "3.10.8"
  }
 },
 "nbformat": 4,
 "nbformat_minor": 5
}
