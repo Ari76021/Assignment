{
 "cells": [
  {
   "cell_type": "code",
   "execution_count": null,
   "id": "c908edcf-9eb0-43a9-ab2d-644587b60cd6",
   "metadata": {},
   "outputs": [],
   "source": [
    "1. i write a program i do not know what type of error will come so i use Exception class while creating a custom exception."
   ]
  },
  {
   "cell_type": "code",
   "execution_count": 6,
   "id": "164829ea-e46d-4418-b149-ef2f39049231",
   "metadata": {},
   "outputs": [],
   "source": [
    "#2.\n",
    "import logging\n",
    "logging.basicConfig(filename='ari1.log',level=logging.INFO)\n",
    "try:\n",
    "    a=30\n",
    "    b=0\n",
    "    a/b\n",
    "except Exception as e:\n",
    "    logging.info(e)"
   ]
  },
  {
   "cell_type": "code",
   "execution_count": null,
   "id": "6129e6bd-c1c1-45c9-8f20-30f14b72fabc",
   "metadata": {},
   "outputs": [],
   "source": [
    "ZeroDivisionError, OverflowError,FloatingPointError are defined in ArithmeticError"
   ]
  },
  {
   "cell_type": "code",
   "execution_count": 19,
   "id": "cf5c7575-c574-4e3f-a0d6-5bfb321f02d1",
   "metadata": {},
   "outputs": [
    {
     "name": "stdout",
     "output_type": "stream",
     "text": [
      "0 3.0\n",
      "1 9.0\n",
      "2 81.0\n",
      "3 6561.0\n",
      "4 43046721.0\n",
      "5 1853020188851841.0\n",
      "6 3.4336838202925124e+30\n",
      "7 1.1790184577738583e+61\n",
      "8 1.3900845237714473e+122\n",
      "9 1.9323349832288915e+244\n"
     ]
    },
    {
     "ename": "TypeError",
     "evalue": "'module' object is not callable",
     "output_type": "error",
     "traceback": [
      "\u001b[0;31m---------------------------------------------------------------------------\u001b[0m",
      "\u001b[0;31mOverflowError\u001b[0m                             Traceback (most recent call last)",
      "Cell \u001b[0;32mIn[19], line 9\u001b[0m\n\u001b[1;32m      8\u001b[0m         \u001b[38;5;28mprint\u001b[39m(i,f)\n\u001b[0;32m----> 9\u001b[0m         f \u001b[38;5;241m=\u001b[39m \u001b[43mf\u001b[49m\u001b[43m \u001b[49m\u001b[38;5;241;43m*\u001b[39;49m\u001b[38;5;241;43m*\u001b[39;49m\u001b[43m \u001b[49m\u001b[38;5;241;43m2\u001b[39;49m\n\u001b[1;32m     10\u001b[0m \u001b[38;5;28;01mexcept\u001b[39;00m \u001b[38;5;167;01mOverflowError\u001b[39;00m \u001b[38;5;28;01mas\u001b[39;00m err:\n",
      "\u001b[0;31mOverflowError\u001b[0m: (34, 'Numerical result out of range')",
      "\nDuring handling of the above exception, another exception occurred:\n",
      "\u001b[0;31mTypeError\u001b[0m                                 Traceback (most recent call last)",
      "Cell \u001b[0;32mIn[19], line 11\u001b[0m\n\u001b[1;32m      9\u001b[0m         f \u001b[38;5;241m=\u001b[39m f \u001b[38;5;241m*\u001b[39m\u001b[38;5;241m*\u001b[39m \u001b[38;5;241m2\u001b[39m\n\u001b[1;32m     10\u001b[0m \u001b[38;5;28;01mexcept\u001b[39;00m \u001b[38;5;167;01mOverflowError\u001b[39;00m \u001b[38;5;28;01mas\u001b[39;00m err:\n\u001b[0;32m---> 11\u001b[0m     \u001b[43mlogging\u001b[49m\u001b[43m(\u001b[49m\u001b[43merr\u001b[49m\u001b[43m)\u001b[49m\n",
      "\u001b[0;31mTypeError\u001b[0m: 'module' object is not callable"
     ]
    }
   ],
   "source": [
    "#examole of overflow error\n",
    "i=1\n",
    "import logging\n",
    "logging.basicConfig(filename=\"ari1.log\",level=logging.INFO)\n",
    "try:\n",
    "    f=3.0**i\n",
    "    for i in range(100):\n",
    "        print(i,f)\n",
    "        f = f ** 2\n",
    "except OverflowError as err:\n",
    "    logging(err)\n"
   ]
  },
  {
   "cell_type": "code",
   "execution_count": 21,
   "id": "89826d33-da98-4c61-be22-27376497c91d",
   "metadata": {},
   "outputs": [],
   "source": [
    "#example of zero division error\n",
    "import logging\n",
    "logging.basicConfig(filename='ari1.log',level=logging.ERROR)\n",
    "try:\n",
    "    a=20\n",
    "    b=0\n",
    "    a/b\n",
    "except ZeroDivisionError as e:\n",
    "    logging.error(e)\n"
   ]
  },
  {
   "cell_type": "code",
   "execution_count": null,
   "id": "272a53ea-1cdc-447b-9bd9-ac092faccff3",
   "metadata": {},
   "outputs": [],
   "source": [
    "4.LookupError class used to control the key error and index error"
   ]
  },
  {
   "cell_type": "code",
   "execution_count": 1,
   "id": "9a4e0342-cbf4-4846-963f-542bc30c0872",
   "metadata": {},
   "outputs": [
    {
     "name": "stdin",
     "output_type": "stream",
     "text": [
      "What do you want to learn about Pylenin==>  arindam\n"
     ]
    },
    {
     "name": "stdout",
     "output_type": "stream",
     "text": [
      "'arindam', <class 'KeyError'>\n"
     ]
    }
   ],
   "source": [
    "pylenin_info = {'name': 'Lenin Mishra',\n",
    "                'age': 28,\n",
    "                'language': 'Python'}\n",
    "user_input = input('What do you want to learn about Pylenin==> ')\n",
    "\n",
    "try:\n",
    "    print(f'{user_input} is {pylenin_info[user_input]}')\n",
    "except LookupError as e:\n",
    "    print(f'{e}, {e.__class__}')\n"
   ]
  },
  {
   "cell_type": "code",
   "execution_count": 4,
   "id": "1b693776-97aa-45cb-b38f-35f3addaf3cf",
   "metadata": {},
   "outputs": [
    {
     "ename": "SyntaxError",
     "evalue": "invalid syntax (2499706018.py, line 8)",
     "output_type": "error",
     "traceback": [
      "\u001b[0;36m  Cell \u001b[0;32mIn[4], line 8\u001b[0;36m\u001b[0m\n\u001b[0;31m    >>> list index out of range, <class 'IndexError'>\u001b[0m\n\u001b[0m    ^\u001b[0m\n\u001b[0;31mSyntaxError\u001b[0m\u001b[0;31m:\u001b[0m invalid syntax\n"
     ]
    }
   ],
   "source": [
    "# lists\n",
    "x = [1, 2, 3, 4]\n",
    "try:\n",
    "    print(x[10])\n",
    "except LookupError as e:\n",
    "    print(f\"{e}, {e.__class__}\")\n",
    "\n",
    ">>> list index out of range, <class 'IndexError'>\n",
    "\n",
    "# strings\n",
    "x = \"Pylenin\"\n",
    "try:\n",
    "    print(x[10])\n",
    "except LookupError as e:\n",
    "    print(f\"{e}, {e.__class__}\")\n",
    "\n",
    ">>> string index out of range, <class 'IndexError'>    \n",
    "    \n",
    "# tuples\n",
    "x = (1, 2, 3, 4)\n",
    "try:\n",
    "    print(x[10])\n",
    "except LookupError as e:\n",
    "    print(f\"{e}, {e.__class__}\")\n",
    "\n",
    ">>> tuple index out of range, <class 'IndexError'>"
   ]
  },
  {
   "cell_type": "code",
   "execution_count": null,
   "id": "fa8af0cd-45c7-46b8-8c31-32a1e3511e9d",
   "metadata": {},
   "outputs": [],
   "source": [
    "5.import error is an exception in python hirearchy under BaseException\n",
    "the path of the module is not correct, the library is not installed, the module is unsupported.... then we can see the "
   ]
  }
 ],
 "metadata": {
  "kernelspec": {
   "display_name": "Python 3 (ipykernel)",
   "language": "python",
   "name": "python3"
  },
  "language_info": {
   "codemirror_mode": {
    "name": "ipython",
    "version": 3
   },
   "file_extension": ".py",
   "mimetype": "text/x-python",
   "name": "python",
   "nbconvert_exporter": "python",
   "pygments_lexer": "ipython3",
   "version": "3.10.8"
  }
 },
 "nbformat": 4,
 "nbformat_minor": 5
}
