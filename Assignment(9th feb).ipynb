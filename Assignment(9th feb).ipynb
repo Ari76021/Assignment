{
 "cells": [
  {
   "cell_type": "code",
   "execution_count": 1,
   "id": "7b8e83f1-d2c4-492a-9ad0-a4ef87847e45",
   "metadata": {},
   "outputs": [],
   "source": [
    "#1.Create a vehicle class with an init method having instance variables as name_of_vehicle, max_speed and average_of_vehicle.\n",
    "class vehicle:\n",
    "    def __init__(self,name_of_vehicle,max_speed,average_of_vehicle):\n",
    "        self.name_of_vehicle=name_of_vehicle\n",
    "        self.max_speed=max_speed\n",
    "        self.average_of_vehicle=average_of_vehicle\n",
    "    \n",
    "    def vehicle_details(self):\n",
    "        print(self.name_of_vehicle,self.max_speed,self.average_of_vehicle)\n",
    "    "
   ]
  },
  {
   "cell_type": "code",
   "execution_count": 2,
   "id": "7740969e-f941-48f2-bd99-37c00ca7244d",
   "metadata": {},
   "outputs": [],
   "source": [
    "vehicle_obj=vehicle(\"fortuner\",250,15)"
   ]
  },
  {
   "cell_type": "code",
   "execution_count": 3,
   "id": "0613485e-6de0-4ef4-968a-27bb6b7a08e8",
   "metadata": {},
   "outputs": [
    {
     "name": "stdout",
     "output_type": "stream",
     "text": [
      "fortuner 250 15\n"
     ]
    }
   ],
   "source": [
    "vehicle_obj.vehicle_details()"
   ]
  },
  {
   "cell_type": "code",
   "execution_count": 11,
   "id": "3f94dcee-1b13-4df4-bd78-267ca7492be7",
   "metadata": {},
   "outputs": [],
   "source": [
    "#2. Create a child class car from the vehicle class created in Que 1, which will inherit the vehicle class.Create a method named seating_capacity which takes capacity as an argument and returns the name of the vehicle and its seating capacity.\n",
    "class vehicle:\n",
    "    def __init__(self,name_of_vehicle,max_speed,average_of_vehicle):\n",
    "        self.name_of_vehicle=name_of_vehicle\n",
    "        self.max_speed=max_speed\n",
    "        self.average_of_vehicle=average_of_vehicle\n",
    "    \n",
    "    def vehicle_details(self):\n",
    "        print(self.name_of_vehicle,self.max_speed,self.average_of_vehicle)"
   ]
  },
  {
   "cell_type": "code",
   "execution_count": 12,
   "id": "2c8110b0-72a7-4a76-9e1c-79073ac10850",
   "metadata": {},
   "outputs": [],
   "source": [
    " def seating_capacity(cls,capacity):\n",
    "        print(\"the capacity is:\",capacity)"
   ]
  },
  {
   "cell_type": "code",
   "execution_count": 13,
   "id": "f919f251-3e7f-4738-b376-c77d087e142a",
   "metadata": {},
   "outputs": [],
   "source": [
    "vehicle.seating_capacity=classmethod(seating_capacity)"
   ]
  },
  {
   "cell_type": "code",
   "execution_count": 14,
   "id": "0263f62a-0724-4128-9d06-87f1bcd138d4",
   "metadata": {},
   "outputs": [
    {
     "name": "stdout",
     "output_type": "stream",
     "text": [
      "the capacity is: 7\n"
     ]
    }
   ],
   "source": [
    "vehicle.seating_capacity(7)"
   ]
  },
  {
   "cell_type": "code",
   "execution_count": 15,
   "id": "ba0c02cb-cd58-4e6c-9582-fc41b503fa58",
   "metadata": {},
   "outputs": [],
   "source": [
    "vw=vehicle(\"fortuner\",250,15)"
   ]
  },
  {
   "cell_type": "code",
   "execution_count": 16,
   "id": "fd28a18e-d705-4078-b06c-1a9d5fac0e18",
   "metadata": {},
   "outputs": [
    {
     "data": {
      "text/plain": [
       "'fortuner'"
      ]
     },
     "execution_count": 16,
     "metadata": {},
     "output_type": "execute_result"
    }
   ],
   "source": [
    "vw.name_of_vehicle"
   ]
  },
  {
   "cell_type": "code",
   "execution_count": 10,
   "id": "0d454d34-ecfb-4ed4-8d86-4fbe32ea7c23",
   "metadata": {},
   "outputs": [
    {
     "name": "stdout",
     "output_type": "stream",
     "text": [
      "the capacity is: 7\n"
     ]
    }
   ],
   "source": [
    "vehicle.seating_capacity(7)"
   ]
  },
  {
   "cell_type": "code",
   "execution_count": null,
   "id": "3dc4b86d-a6d1-4618-8757-eb0dd056cfdd",
   "metadata": {},
   "outputs": [],
   "source": [
    "3.When a class is derived from more than one base class it is called multiple Inheritance. The derived class inherits all the features of the base case."
   ]
  },
  {
   "cell_type": "code",
   "execution_count": 18,
   "id": "219e17bf-8952-44fa-9b87-e13f4bbc73c5",
   "metadata": {},
   "outputs": [],
   "source": [
    "#example\n",
    "class class1:\n",
    "    def test_class1(self):\n",
    "        print('this is my 1st class')\n",
    "class class2(class1):\n",
    "    def test_class2(class1):\n",
    "        print(\"this is my 2nd class\")\n",
    "        \n",
    "class class3(class2):\n",
    "    def test_class3(class2):\n",
    "        print(\"this is my 3rd class\")\n",
    "        \n",
    "class class4(class3,class2,class1):\n",
    "    def test_class4(class3):\n",
    "        pass\n",
    "        "
   ]
  },
  {
   "cell_type": "code",
   "execution_count": 19,
   "id": "4288de39-7b2d-4a6c-8972-dba9d9710cdb",
   "metadata": {},
   "outputs": [],
   "source": [
    "class_obj=class4()"
   ]
  },
  {
   "cell_type": "code",
   "execution_count": 23,
   "id": "3563b715-b38b-4b97-bf63-43c8e1a73487",
   "metadata": {},
   "outputs": [
    {
     "name": "stdout",
     "output_type": "stream",
     "text": [
      "this is my 3rd class\n",
      "this is my 2nd class\n",
      "this is my 1st class\n"
     ]
    }
   ],
   "source": [
    "class_obj.test_class3()\n",
    "class_obj.test_class2()\n",
    "class_obj.test_class1()"
   ]
  },
  {
   "cell_type": "code",
   "execution_count": null,
   "id": "ac83d117-9874-40df-a9fe-ebb79928c104",
   "metadata": {},
   "outputs": [],
   "source": [
    "4.getter:-Getters are the methods that are used in Object-Oriented Programming (OOPS) to access a class's private attributes\n",
    "setter:-The setter is a method that is used to set the property's value."
   ]
  },
  {
   "cell_type": "code",
   "execution_count": 174,
   "id": "c8578e57-bf36-42b1-bbf8-0cbdbe88d6fb",
   "metadata": {},
   "outputs": [],
   "source": [
    "class Adamas:\n",
    "    def __init__(self,course_price,course_name):\n",
    "        self.__course_price=course_price\n",
    "        self.course_name=course_name\n",
    "        \n",
    "    @property\n",
    "    def course_price_access(self):\n",
    "        return self.__course_price\n",
    "    @course_price_access.setter\n",
    "    def course_price_set(self,price):\n",
    "        if price<=85000:\n",
    "            pass\n",
    "        else:\n",
    "            self.__course_price = price\n",
    "    @course_price_access.deleter\n",
    "    def delete_course_price(self):\n",
    "        del self.__course_price"
   ]
  },
  {
   "cell_type": "code",
   "execution_count": 175,
   "id": "ee012bcd-a267-4cd7-a65a-6cbb1770187c",
   "metadata": {},
   "outputs": [],
   "source": [
    "au=Adamas(85000,'cse')"
   ]
  },
  {
   "cell_type": "code",
   "execution_count": 176,
   "id": "870667fa-84ea-4d5b-8217-5e6dfdecbf82",
   "metadata": {},
   "outputs": [
    {
     "data": {
      "text/plain": [
       "85000"
      ]
     },
     "execution_count": 176,
     "metadata": {},
     "output_type": "execute_result"
    }
   ],
   "source": [
    "au._Adamas__course_price"
   ]
  },
  {
   "cell_type": "code",
   "execution_count": 177,
   "id": "34e92769-e3cc-4482-b453-dec961bf36a6",
   "metadata": {},
   "outputs": [
    {
     "data": {
      "text/plain": [
       "85000"
      ]
     },
     "execution_count": 177,
     "metadata": {},
     "output_type": "execute_result"
    }
   ],
   "source": [
    "au.course_price_access"
   ]
  },
  {
   "cell_type": "code",
   "execution_count": 178,
   "id": "8087eb74-e0d7-4ebf-b671-6dfc05652d0c",
   "metadata": {},
   "outputs": [],
   "source": [
    "au.course_price_set=90000"
   ]
  },
  {
   "cell_type": "code",
   "execution_count": 179,
   "id": "4422aa5a-f40f-4040-b905-ab002d099059",
   "metadata": {},
   "outputs": [
    {
     "data": {
      "text/plain": [
       "90000"
      ]
     },
     "execution_count": 179,
     "metadata": {},
     "output_type": "execute_result"
    }
   ],
   "source": [
    "au.course_price_access"
   ]
  },
  {
   "cell_type": "code",
   "execution_count": null,
   "id": "8bae3653-3b24-46ed-bbd3-d13decbaf7fe",
   "metadata": {},
   "outputs": [],
   "source": [
    "5.Suppose a method is defined in a base class and when we define same named method in the derived class derived from that base class, then it is called Method Overriding."
   ]
  },
  {
   "cell_type": "code",
   "execution_count": 181,
   "id": "7a578ac1-339a-4d49-a772-e506bbf6be2d",
   "metadata": {},
   "outputs": [],
   "source": [
    "#example\n",
    "class company:\n",
    "    def details(self):\n",
    "        print(\"method is called from company\")\n",
    "        \n",
    "class employee(company):\n",
    "    def details(self):\n",
    "        print(\"method is called from employee\")"
   ]
  },
  {
   "cell_type": "code",
   "execution_count": 184,
   "id": "2776c581-68a9-4b11-b00a-2b00d34f64d7",
   "metadata": {},
   "outputs": [],
   "source": [
    "company1=company()"
   ]
  },
  {
   "cell_type": "code",
   "execution_count": 183,
   "id": "5d5d5c38-b312-42dd-a308-5376bc2e03cd",
   "metadata": {},
   "outputs": [
    {
     "name": "stdout",
     "output_type": "stream",
     "text": [
      "method is called from employee\n"
     ]
    }
   ],
   "source": [
    "company11.details()"
   ]
  },
  {
   "cell_type": "code",
   "execution_count": null,
   "id": "58db9fef-b722-4890-832a-17c26cc24364",
   "metadata": {},
   "outputs": [],
   "source": []
  }
 ],
 "metadata": {
  "kernelspec": {
   "display_name": "Python 3 (ipykernel)",
   "language": "python",
   "name": "python3"
  },
  "language_info": {
   "codemirror_mode": {
    "name": "ipython",
    "version": 3
   },
   "file_extension": ".py",
   "mimetype": "text/x-python",
   "name": "python",
   "nbconvert_exporter": "python",
   "pygments_lexer": "ipython3",
   "version": "3.10.8"
  }
 },
 "nbformat": 4,
 "nbformat_minor": 5
}
