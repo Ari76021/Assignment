{
 "cells": [
  {
   "cell_type": "code",
   "execution_count": null,
   "id": "084e8cce-0a3e-4b4e-b8b4-d1b28e9057ae",
   "metadata": {},
   "outputs": [],
   "source": [
    "1.An exception is an event, which occurs during the execution of a program that disrupts the normal flow of the program's instructions\n",
    "syntax error is caused by using wrong syntax \n",
    "exception are raised when the program is syntactically correct but the code resulted an error."
   ]
  },
  {
   "cell_type": "code",
   "execution_count": null,
   "id": "1e269527-e96b-4b24-891e-52d83d04ebc4",
   "metadata": {},
   "outputs": [],
   "source": [
    "2.when an exception is not handled then an error message displayed and the program comes to a sudden unexpected halt."
   ]
  },
  {
   "cell_type": "code",
   "execution_count": 1,
   "id": "63c06ee7-6b89-44ba-b427-31ecf9d0ed98",
   "metadata": {},
   "outputs": [
    {
     "name": "stdout",
     "output_type": "stream",
     "text": [
      "Error: Denominator cannot be 0.\n"
     ]
    }
   ],
   "source": [
    "#example\n",
    "try:\n",
    "    numerator = 10\n",
    "    denominator = 0\n",
    "\n",
    "    result = numerator/denominator\n",
    "\n",
    "    print(result)\n",
    "except:\n",
    "    print(\"Error: Denominator cannot be 0.\")"
   ]
  },
  {
   "cell_type": "code",
   "execution_count": null,
   "id": "bab17d80-fd92-43a9-a050-311eadb9afb8",
   "metadata": {},
   "outputs": [],
   "source": [
    "to see this program i can understand that it is wrong. because i use here exception using try and except. if i do not use try and except\n",
    "then the display show the 'zero division error'"
   ]
  },
  {
   "cell_type": "code",
   "execution_count": 2,
   "id": "02e7a6d7-2e24-47df-98a5-0c84acdbb0cc",
   "metadata": {},
   "outputs": [
    {
     "ename": "ZeroDivisionError",
     "evalue": "division by zero",
     "output_type": "error",
     "traceback": [
      "\u001b[0;31m---------------------------------------------------------------------------\u001b[0m",
      "\u001b[0;31mZeroDivisionError\u001b[0m                         Traceback (most recent call last)",
      "Cell \u001b[0;32mIn[2], line 3\u001b[0m\n\u001b[1;32m      1\u001b[0m numerator \u001b[38;5;241m=\u001b[39m \u001b[38;5;241m10\u001b[39m\n\u001b[1;32m      2\u001b[0m denominator \u001b[38;5;241m=\u001b[39m \u001b[38;5;241m0\u001b[39m\n\u001b[0;32m----> 3\u001b[0m result \u001b[38;5;241m=\u001b[39m \u001b[43mnumerator\u001b[49m\u001b[38;5;241;43m/\u001b[39;49m\u001b[43mdenominator\u001b[49m\n\u001b[1;32m      4\u001b[0m \u001b[38;5;28mprint\u001b[39m(result)\n",
      "\u001b[0;31mZeroDivisionError\u001b[0m: division by zero"
     ]
    }
   ],
   "source": [
    "numerator = 10\n",
    "denominator = 0\n",
    "result = numerator/denominator\n",
    "print(result)"
   ]
  },
  {
   "cell_type": "code",
   "execution_count": null,
   "id": "53970c9a-3af7-4e7e-a14e-c70f8a15cadf",
   "metadata": {},
   "outputs": [],
   "source": [
    "3.try and except function is used to catch and handle exceptions"
   ]
  },
  {
   "cell_type": "code",
   "execution_count": 3,
   "id": "a562813f-78d4-447d-97b8-ffdbe6aa7726",
   "metadata": {},
   "outputs": [
    {
     "name": "stdout",
     "output_type": "stream",
     "text": [
      "Error: Denominator cannot be 0.\n"
     ]
    }
   ],
   "source": [
    "#example\n",
    "try:\n",
    "    numerator = 10\n",
    "    denominator = 0\n",
    "\n",
    "    result = numerator/denominator\n",
    "\n",
    "    print(result)\n",
    "except:\n",
    "    print(\"Error: Denominator cannot be 0.\")"
   ]
  },
  {
   "cell_type": "code",
   "execution_count": 15,
   "id": "2f4ff4a1-1088-4b02-a2ce-fab52ccb61f0",
   "metadata": {},
   "outputs": [
    {
     "name": "stdout",
     "output_type": "stream",
     "text": [
      "this is except block\n"
     ]
    }
   ],
   "source": [
    "#4.try and else\n",
    "try:\n",
    "    f=open(\"test.txt\",'r')\n",
    "    f.write(\"write into my file\")\n",
    "except:\n",
    "    print(\"this is except block\")\n",
    "else:\n",
    "    f.close()\n",
    "    print(\"this is my correct program\")\n",
    "    "
   ]
  },
  {
   "cell_type": "code",
   "execution_count": 16,
   "id": "e776cce8-875a-4581-9f97-eb33815eb0f1",
   "metadata": {},
   "outputs": [
    {
     "name": "stdout",
     "output_type": "stream",
     "text": [
      "finally it will execute in any situation\n"
     ]
    },
    {
     "ename": "UnsupportedOperation",
     "evalue": "not writable",
     "output_type": "error",
     "traceback": [
      "\u001b[0;31m---------------------------------------------------------------------------\u001b[0m",
      "\u001b[0;31mUnsupportedOperation\u001b[0m                      Traceback (most recent call last)",
      "Cell \u001b[0;32mIn[16], line 4\u001b[0m\n\u001b[1;32m      2\u001b[0m \u001b[38;5;28;01mtry\u001b[39;00m:\n\u001b[1;32m      3\u001b[0m     f\u001b[38;5;241m=\u001b[39m\u001b[38;5;28mopen\u001b[39m(\u001b[38;5;124m\"\u001b[39m\u001b[38;5;124mtest.txt\u001b[39m\u001b[38;5;124m\"\u001b[39m,\u001b[38;5;124m'\u001b[39m\u001b[38;5;124mr\u001b[39m\u001b[38;5;124m'\u001b[39m)\n\u001b[0;32m----> 4\u001b[0m     \u001b[43mf\u001b[49m\u001b[38;5;241;43m.\u001b[39;49m\u001b[43mwrite\u001b[49m\u001b[43m(\u001b[49m\u001b[38;5;124;43m\"\u001b[39;49m\u001b[38;5;124;43mwrite something\u001b[39;49m\u001b[38;5;124;43m\"\u001b[39;49m\u001b[43m)\u001b[49m\n\u001b[1;32m      5\u001b[0m \u001b[38;5;28;01mfinally\u001b[39;00m:\n\u001b[1;32m      6\u001b[0m     \u001b[38;5;28mprint\u001b[39m(\u001b[38;5;124m\"\u001b[39m\u001b[38;5;124mfinally it will execute in any situation\u001b[39m\u001b[38;5;124m\"\u001b[39m)\n",
      "\u001b[0;31mUnsupportedOperation\u001b[0m: not writable"
     ]
    }
   ],
   "source": [
    "#finally\n",
    "try:\n",
    "    f=open(\"test.txt\",'r')\n",
    "    f.write(\"write something\")\n",
    "finally:\n",
    "    print(\"finally it will execute in any situation\")"
   ]
  },
  {
   "cell_type": "code",
   "execution_count": 19,
   "id": "b7f476e9-f058-4f5b-86db-5524c6d75aee",
   "metadata": {},
   "outputs": [
    {
     "name": "stdin",
     "output_type": "stream",
     "text": [
      "enter the percentage: 105\n"
     ]
    },
    {
     "name": "stdout",
     "output_type": "stream",
     "text": [
      "percent is valid\n"
     ]
    }
   ],
   "source": [
    "#raise\n",
    "class percentage():\n",
    "    def __init__(self,msg):\n",
    "        self.msg=msg\n",
    "        \n",
    "        \n",
    "def percentage(percent):\n",
    "    if percent>100:\n",
    "        raise percent(\"percent is invalid\")\n",
    "    elif percent<0:\n",
    "        raise percent(\"percentage is not possibl\n",
    "    else:\n",
    "        print(\"percent is valid\")\n",
    "        \n",
    "        \n",
    "try:\n",
    "    percent=int(input(\"enter the percentage:\"))\n",
    "    percentage(percent)\n",
    "except percentage as e:\n",
    "    print(e)"
   ]
  },
  {
   "cell_type": "code",
   "execution_count": null,
   "id": "28d6d9ea-27e1-4ab9-a141-d4510da9d624",
   "metadata": {},
   "outputs": [],
   "source": [
    "5. the custom exception hierarchy allows to catch exception at multiple levels like standard exception class\n",
    "the custom exception is used to develop a program.\n"
   ]
  },
  {
   "cell_type": "code",
   "execution_count": 8,
   "id": "1d1de550-08f9-4ac1-bae5-a8d0e64c9b5b",
   "metadata": {},
   "outputs": [
    {
     "name": "stdin",
     "output_type": "stream",
     "text": [
      "enter the percentage: 95\n"
     ]
    },
    {
     "name": "stdout",
     "output_type": "stream",
     "text": [
      "percent is valid\n"
     ]
    }
   ],
   "source": [
    "#example\n",
    "class percentage():\n",
    "    def __init__(self,msg):\n",
    "        self.msg=msg\n",
    "    \n",
    "def percentage(percent):\n",
    "    if percent<0:\n",
    "        raise percent(\"this is not posssible\")\n",
    "    elif percent>100:\n",
    "        raise percent(\"this is impossible\")\n",
    "    else:\n",
    "        print(\"percent is valid\")\n",
    "        \n",
    "        \n",
    "try:\n",
    "    percent=int(input(\"enter the percentage:\"))\n",
    "    percentage(percent)\n",
    "except percentage as e:\n",
    "    print(e)\n"
   ]
  },
  {
   "cell_type": "code",
   "execution_count": 11,
   "id": "b0a8d3b4-7376-4007-a63a-78486a6860a8",
   "metadata": {},
   "outputs": [
    {
     "name": "stdin",
     "output_type": "stream",
     "text": [
      "enter the percentage: 100\n"
     ]
    },
    {
     "name": "stdout",
     "output_type": "stream",
     "text": [
      "percent is valid\n"
     ]
    }
   ],
   "source": [
    "#6.\n",
    "class percentage():\n",
    "    def __init__(self,msg):\n",
    "        self.msg=msg\n",
    "    \n",
    "def percentage(percent):\n",
    "    if percent<0:\n",
    "        raise percent(\"this is not posssible\")\n",
    "    elif percent>100:\n",
    "        raise percent(\"this is impossible\")\n",
    "    else:\n",
    "        print(\"percent is valid\")\n",
    "        \n",
    "        \n",
    "try:\n",
    "    percent=int(input(\"enter the percentage:\"))\n",
    "    percentage(percent)\n",
    "except percentage as e:\n",
    "    print(e)\n"
   ]
  },
  {
   "cell_type": "code",
   "execution_count": null,
   "id": "49ece4cf-14c5-4366-8220-9a95c3eaedce",
   "metadata": {},
   "outputs": [],
   "source": []
  }
 ],
 "metadata": {
  "kernelspec": {
   "display_name": "Python 3 (ipykernel)",
   "language": "python",
   "name": "python3"
  },
  "language_info": {
   "codemirror_mode": {
    "name": "ipython",
    "version": 3
   },
   "file_extension": ".py",
   "mimetype": "text/x-python",
   "name": "python",
   "nbconvert_exporter": "python",
   "pygments_lexer": "ipython3",
   "version": "3.10.8"
  }
 },
 "nbformat": 4,
 "nbformat_minor": 5
}
